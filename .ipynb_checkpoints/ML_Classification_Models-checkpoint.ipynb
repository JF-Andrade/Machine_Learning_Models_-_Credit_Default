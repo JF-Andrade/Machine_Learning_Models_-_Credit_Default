{
 "cells": [
  {
   "cell_type": "markdown",
   "metadata": {},
   "source": [
    "## Jordão Fernandes de Andrade\n",
    "Date: 23/02/2021 \\\n",
    "Project: Credit Default dataset \\\n",
    "Description: Final Project from Udemy's course \"Formação Cientista de Dados com R e Python\", by Fernando Almeida. https://www.udemy.com/course/cientista-de-dados/"
   ]
  },
  {
   "cell_type": "code",
   "execution_count": 82,
   "metadata": {},
   "outputs": [],
   "source": [
    "# Pacotes\n",
    "import pandas as pd\n",
    "import numpy as np\n",
    "import matplotlib.pyplot as plt\n",
    "\n",
    "from sklearn.model_selection import train_test_split                                 # dividir dados entre treino e teste\n",
    "from sklearn.preprocessing import LabelEncoder, OneHotEncoder                        # para label encoding\n",
    "from sklearn.metrics import confusion_matrix, accuracy_score, ConfusionMatrixDisplay # criar matriz de confusão\n",
    "from yellowbrick.classifier import ConfusionMatrix                                   # criar matriz de confusão gráfica\n",
    "\n",
    "# 1. Naive Bayes\n",
    "from sklearn.naive_bayes import GaussianNB                                           # naive bayes\n",
    "\n",
    "# 2. Decision Tree\n",
    "from sklearn.tree import DecisionTreeClassifier                                      # Algoritmo classificador de árvore de decisão\n",
    "import graphviz                                                                      # Decision Tree visualization\n",
    "from sklearn.tree import export_graphviz                                             # Decision Tree visualization\n",
    "\n",
    "# 3. Attribute Selection\n",
    "from sklearn.svm import SVC                                                          # para usar máquina de vetor de suporte\n",
    "from sklearn.ensemble import ExtraTreesClassifier\n",
    "\n",
    "# 4. Random Forest\n",
    "from sklearn.ensemble import RandomForestClassifier                                  # Algoritmo de Floresta Aleatória\n",
    "\n",
    "# 5. Neural Network\n",
    "from keras import callbacks                                                          # Choose optimal number of epochs to train a neural network in Keras\n",
    "from keras.models import Sequential                                                  # keras: deep learning packages\n",
    "from keras.layers import Dense, Dropout                                              # Add Dense Layers in Network\n",
    "from sklearn.compose import make_column_transformer                                  # Used with One Hot Encoder"
   ]
  },
  {
   "cell_type": "code",
   "execution_count": 2,
   "metadata": {},
   "outputs": [
    {
     "data": {
      "text/html": [
       "<div>\n",
       "<style scoped>\n",
       "    .dataframe tbody tr th:only-of-type {\n",
       "        vertical-align: middle;\n",
       "    }\n",
       "\n",
       "    .dataframe tbody tr th {\n",
       "        vertical-align: top;\n",
       "    }\n",
       "\n",
       "    .dataframe thead th {\n",
       "        text-align: right;\n",
       "    }\n",
       "</style>\n",
       "<table border=\"1\" class=\"dataframe\">\n",
       "  <thead>\n",
       "    <tr style=\"text-align: right;\">\n",
       "      <th></th>\n",
       "      <th>IDCREDITO</th>\n",
       "      <th>Duracao</th>\n",
       "      <th>HistoricoCredito</th>\n",
       "      <th>Proposito</th>\n",
       "      <th>Valor</th>\n",
       "      <th>Investimentos</th>\n",
       "      <th>Emprego</th>\n",
       "      <th>TempoParcelamento</th>\n",
       "      <th>EstadoCivil</th>\n",
       "      <th>FiadorTerceiros</th>\n",
       "      <th>ResidenciaDesde</th>\n",
       "      <th>Idade</th>\n",
       "      <th>OutrosFinanciamentos</th>\n",
       "      <th>Habitacao</th>\n",
       "      <th>EmprestimoExistente</th>\n",
       "      <th>Profissao</th>\n",
       "      <th>Dependentes</th>\n",
       "      <th>SocioEmpresa</th>\n",
       "      <th>Estrangeiro</th>\n",
       "      <th>Status</th>\n",
       "    </tr>\n",
       "  </thead>\n",
       "  <tbody>\n",
       "    <tr>\n",
       "      <th>0</th>\n",
       "      <td>2</td>\n",
       "      <td>48</td>\n",
       "      <td>2</td>\n",
       "      <td>1</td>\n",
       "      <td>5951</td>\n",
       "      <td>2</td>\n",
       "      <td>3.0</td>\n",
       "      <td>2</td>\n",
       "      <td>1</td>\n",
       "      <td>3</td>\n",
       "      <td>2.0</td>\n",
       "      <td>22</td>\n",
       "      <td>3</td>\n",
       "      <td>1.0</td>\n",
       "      <td>1</td>\n",
       "      <td>4</td>\n",
       "      <td>1</td>\n",
       "      <td>0</td>\n",
       "      <td>0</td>\n",
       "      <td>0</td>\n",
       "    </tr>\n",
       "    <tr>\n",
       "      <th>1</th>\n",
       "      <td>3</td>\n",
       "      <td>12</td>\n",
       "      <td>1</td>\n",
       "      <td>2</td>\n",
       "      <td>2096</td>\n",
       "      <td>2</td>\n",
       "      <td>4.0</td>\n",
       "      <td>2</td>\n",
       "      <td>4</td>\n",
       "      <td>3</td>\n",
       "      <td>3.0</td>\n",
       "      <td>49</td>\n",
       "      <td>3</td>\n",
       "      <td>1.0</td>\n",
       "      <td>1</td>\n",
       "      <td>3</td>\n",
       "      <td>2</td>\n",
       "      <td>0</td>\n",
       "      <td>0</td>\n",
       "      <td>1</td>\n",
       "    </tr>\n",
       "    <tr>\n",
       "      <th>2</th>\n",
       "      <td>4</td>\n",
       "      <td>42</td>\n",
       "      <td>2</td>\n",
       "      <td>3</td>\n",
       "      <td>7882</td>\n",
       "      <td>2</td>\n",
       "      <td>4.0</td>\n",
       "      <td>2</td>\n",
       "      <td>4</td>\n",
       "      <td>4</td>\n",
       "      <td>4.0</td>\n",
       "      <td>45</td>\n",
       "      <td>3</td>\n",
       "      <td>2.0</td>\n",
       "      <td>1</td>\n",
       "      <td>4</td>\n",
       "      <td>2</td>\n",
       "      <td>0</td>\n",
       "      <td>0</td>\n",
       "      <td>1</td>\n",
       "    </tr>\n",
       "    <tr>\n",
       "      <th>3</th>\n",
       "      <td>5</td>\n",
       "      <td>24</td>\n",
       "      <td>3</td>\n",
       "      <td>4</td>\n",
       "      <td>4870</td>\n",
       "      <td>2</td>\n",
       "      <td>3.0</td>\n",
       "      <td>3</td>\n",
       "      <td>4</td>\n",
       "      <td>3</td>\n",
       "      <td>4.0</td>\n",
       "      <td>53</td>\n",
       "      <td>3</td>\n",
       "      <td>2.0</td>\n",
       "      <td>2</td>\n",
       "      <td>4</td>\n",
       "      <td>2</td>\n",
       "      <td>0</td>\n",
       "      <td>0</td>\n",
       "      <td>0</td>\n",
       "    </tr>\n",
       "    <tr>\n",
       "      <th>4</th>\n",
       "      <td>6</td>\n",
       "      <td>36</td>\n",
       "      <td>2</td>\n",
       "      <td>2</td>\n",
       "      <td>9055</td>\n",
       "      <td>1</td>\n",
       "      <td>3.0</td>\n",
       "      <td>2</td>\n",
       "      <td>4</td>\n",
       "      <td>3</td>\n",
       "      <td>4.0</td>\n",
       "      <td>35</td>\n",
       "      <td>3</td>\n",
       "      <td>2.0</td>\n",
       "      <td>1</td>\n",
       "      <td>3</td>\n",
       "      <td>2</td>\n",
       "      <td>1</td>\n",
       "      <td>0</td>\n",
       "      <td>1</td>\n",
       "    </tr>\n",
       "  </tbody>\n",
       "</table>\n",
       "</div>"
      ],
      "text/plain": [
       "   IDCREDITO  Duracao  HistoricoCredito  Proposito  Valor  Investimentos  \\\n",
       "0          2       48                 2          1   5951              2   \n",
       "1          3       12                 1          2   2096              2   \n",
       "2          4       42                 2          3   7882              2   \n",
       "3          5       24                 3          4   4870              2   \n",
       "4          6       36                 2          2   9055              1   \n",
       "\n",
       "   Emprego  TempoParcelamento  EstadoCivil  FiadorTerceiros  ResidenciaDesde  \\\n",
       "0      3.0                  2            1                3              2.0   \n",
       "1      4.0                  2            4                3              3.0   \n",
       "2      4.0                  2            4                4              4.0   \n",
       "3      3.0                  3            4                3              4.0   \n",
       "4      3.0                  2            4                3              4.0   \n",
       "\n",
       "   Idade  OutrosFinanciamentos  Habitacao  EmprestimoExistente  Profissao  \\\n",
       "0     22                     3        1.0                    1          4   \n",
       "1     49                     3        1.0                    1          3   \n",
       "2     45                     3        2.0                    1          4   \n",
       "3     53                     3        2.0                    2          4   \n",
       "4     35                     3        2.0                    1          3   \n",
       "\n",
       "   Dependentes  SocioEmpresa  Estrangeiro  Status  \n",
       "0            1             0            0       0  \n",
       "1            2             0            0       1  \n",
       "2            2             0            0       1  \n",
       "3            2             0            0       0  \n",
       "4            2             1            0       1  "
      ]
     },
     "execution_count": 2,
     "metadata": {},
     "output_type": "execute_result"
    }
   ],
   "source": [
    "# Load data\n",
    "data = pd.read_csv('dados/credit.csv')\n",
    "data.head()"
   ]
  },
  {
   "cell_type": "code",
   "execution_count": 3,
   "metadata": {},
   "outputs": [
    {
     "data": {
      "text/html": [
       "<div>\n",
       "<style scoped>\n",
       "    .dataframe tbody tr th:only-of-type {\n",
       "        vertical-align: middle;\n",
       "    }\n",
       "\n",
       "    .dataframe tbody tr th {\n",
       "        vertical-align: top;\n",
       "    }\n",
       "\n",
       "    .dataframe thead th {\n",
       "        text-align: right;\n",
       "    }\n",
       "</style>\n",
       "<table border=\"1\" class=\"dataframe\">\n",
       "  <thead>\n",
       "    <tr style=\"text-align: right;\">\n",
       "      <th></th>\n",
       "      <th>Duracao</th>\n",
       "      <th>HistoricoCredito</th>\n",
       "      <th>Proposito</th>\n",
       "      <th>Valor</th>\n",
       "      <th>Investimentos</th>\n",
       "      <th>Emprego</th>\n",
       "      <th>TempoParcelamento</th>\n",
       "      <th>EstadoCivil</th>\n",
       "      <th>FiadorTerceiros</th>\n",
       "      <th>ResidenciaDesde</th>\n",
       "      <th>Idade</th>\n",
       "      <th>OutrosFinanciamentos</th>\n",
       "      <th>Habitacao</th>\n",
       "      <th>EmprestimoExistente</th>\n",
       "      <th>Profissao</th>\n",
       "      <th>Dependentes</th>\n",
       "      <th>SocioEmpresa</th>\n",
       "      <th>Estrangeiro</th>\n",
       "      <th>Status</th>\n",
       "    </tr>\n",
       "  </thead>\n",
       "  <tbody>\n",
       "    <tr>\n",
       "      <th>0</th>\n",
       "      <td>48</td>\n",
       "      <td>2</td>\n",
       "      <td>1</td>\n",
       "      <td>5951</td>\n",
       "      <td>2</td>\n",
       "      <td>3.0</td>\n",
       "      <td>2</td>\n",
       "      <td>1</td>\n",
       "      <td>3</td>\n",
       "      <td>2.0</td>\n",
       "      <td>22</td>\n",
       "      <td>3</td>\n",
       "      <td>1.0</td>\n",
       "      <td>1</td>\n",
       "      <td>4</td>\n",
       "      <td>1</td>\n",
       "      <td>0</td>\n",
       "      <td>0</td>\n",
       "      <td>0</td>\n",
       "    </tr>\n",
       "    <tr>\n",
       "      <th>1</th>\n",
       "      <td>12</td>\n",
       "      <td>1</td>\n",
       "      <td>2</td>\n",
       "      <td>2096</td>\n",
       "      <td>2</td>\n",
       "      <td>4.0</td>\n",
       "      <td>2</td>\n",
       "      <td>4</td>\n",
       "      <td>3</td>\n",
       "      <td>3.0</td>\n",
       "      <td>49</td>\n",
       "      <td>3</td>\n",
       "      <td>1.0</td>\n",
       "      <td>1</td>\n",
       "      <td>3</td>\n",
       "      <td>2</td>\n",
       "      <td>0</td>\n",
       "      <td>0</td>\n",
       "      <td>1</td>\n",
       "    </tr>\n",
       "    <tr>\n",
       "      <th>2</th>\n",
       "      <td>42</td>\n",
       "      <td>2</td>\n",
       "      <td>3</td>\n",
       "      <td>7882</td>\n",
       "      <td>2</td>\n",
       "      <td>4.0</td>\n",
       "      <td>2</td>\n",
       "      <td>4</td>\n",
       "      <td>4</td>\n",
       "      <td>4.0</td>\n",
       "      <td>45</td>\n",
       "      <td>3</td>\n",
       "      <td>2.0</td>\n",
       "      <td>1</td>\n",
       "      <td>4</td>\n",
       "      <td>2</td>\n",
       "      <td>0</td>\n",
       "      <td>0</td>\n",
       "      <td>1</td>\n",
       "    </tr>\n",
       "    <tr>\n",
       "      <th>3</th>\n",
       "      <td>24</td>\n",
       "      <td>3</td>\n",
       "      <td>4</td>\n",
       "      <td>4870</td>\n",
       "      <td>2</td>\n",
       "      <td>3.0</td>\n",
       "      <td>3</td>\n",
       "      <td>4</td>\n",
       "      <td>3</td>\n",
       "      <td>4.0</td>\n",
       "      <td>53</td>\n",
       "      <td>3</td>\n",
       "      <td>2.0</td>\n",
       "      <td>2</td>\n",
       "      <td>4</td>\n",
       "      <td>2</td>\n",
       "      <td>0</td>\n",
       "      <td>0</td>\n",
       "      <td>0</td>\n",
       "    </tr>\n",
       "    <tr>\n",
       "      <th>4</th>\n",
       "      <td>36</td>\n",
       "      <td>2</td>\n",
       "      <td>2</td>\n",
       "      <td>9055</td>\n",
       "      <td>1</td>\n",
       "      <td>3.0</td>\n",
       "      <td>2</td>\n",
       "      <td>4</td>\n",
       "      <td>3</td>\n",
       "      <td>4.0</td>\n",
       "      <td>35</td>\n",
       "      <td>3</td>\n",
       "      <td>2.0</td>\n",
       "      <td>1</td>\n",
       "      <td>3</td>\n",
       "      <td>2</td>\n",
       "      <td>1</td>\n",
       "      <td>0</td>\n",
       "      <td>1</td>\n",
       "    </tr>\n",
       "  </tbody>\n",
       "</table>\n",
       "</div>"
      ],
      "text/plain": [
       "   Duracao  HistoricoCredito  Proposito  Valor  Investimentos  Emprego  \\\n",
       "0       48                 2          1   5951              2      3.0   \n",
       "1       12                 1          2   2096              2      4.0   \n",
       "2       42                 2          3   7882              2      4.0   \n",
       "3       24                 3          4   4870              2      3.0   \n",
       "4       36                 2          2   9055              1      3.0   \n",
       "\n",
       "   TempoParcelamento  EstadoCivil  FiadorTerceiros  ResidenciaDesde  Idade  \\\n",
       "0                  2            1                3              2.0     22   \n",
       "1                  2            4                3              3.0     49   \n",
       "2                  2            4                4              4.0     45   \n",
       "3                  3            4                3              4.0     53   \n",
       "4                  2            4                3              4.0     35   \n",
       "\n",
       "   OutrosFinanciamentos  Habitacao  EmprestimoExistente  Profissao  \\\n",
       "0                     3        1.0                    1          4   \n",
       "1                     3        1.0                    1          3   \n",
       "2                     3        2.0                    1          4   \n",
       "3                     3        2.0                    2          4   \n",
       "4                     3        2.0                    1          3   \n",
       "\n",
       "   Dependentes  SocioEmpresa  Estrangeiro  Status  \n",
       "0            1             0            0       0  \n",
       "1            2             0            0       1  \n",
       "2            2             0            0       1  \n",
       "3            2             0            0       0  \n",
       "4            2             1            0       1  "
      ]
     },
     "execution_count": 3,
     "metadata": {},
     "output_type": "execute_result"
    }
   ],
   "source": [
    "data = data.drop(['IDCREDITO'], axis=1)\n",
    "data.head()"
   ]
  },
  {
   "cell_type": "markdown",
   "metadata": {},
   "source": [
    "# Machine Learning Classification Models\n",
    "\n",
    "1. Naive Bayes\n",
    "2. Decision Tree\n",
    "3. Attribute Selection\n",
    "4. Random Forest\n",
    "5. Neural Network"
   ]
  },
  {
   "cell_type": "markdown",
   "metadata": {},
   "source": [
    "## 1. Naive Bayes"
   ]
  },
  {
   "cell_type": "markdown",
   "metadata": {},
   "source": [
    "#### Divide base em variáveis independentes (X) e dependente (Y)"
   ]
  },
  {
   "cell_type": "code",
   "execution_count": 4,
   "metadata": {},
   "outputs": [
    {
     "data": {
      "text/plain": [
       "18"
      ]
     },
     "execution_count": 4,
     "metadata": {},
     "output_type": "execute_result"
    }
   ],
   "source": [
    "# divide variáveis independentes (previsores - X) e variável dependente (classe - Y)\n",
    "X = data.loc[:,~data.columns.str.contains('Status')].values # ~data.columns.str.contains('Status') seleciona todas as colunas que NÃO contêm 'Status' no nome\n",
    "Y = data.loc[:,data.columns.str.contains('Status')].values  # data.columns.str.contains('Status') seleciona todas as colunas que CONTÊM 'Status' no nome\n",
    "#X.shape\n",
    "len(X[0]) # lenght das colunas de X"
   ]
  },
  {
   "cell_type": "code",
   "execution_count": 5,
   "metadata": {},
   "outputs": [],
   "source": [
    "X_train, X_test, Y_train, Y_test = train_test_split(X,\n",
    "                                                    Y,\n",
    "                                                    test_size = 0.3,\n",
    "                                                    random_state = 0)"
   ]
  },
  {
   "cell_type": "markdown",
   "metadata": {},
   "source": [
    "#### Treinamento do Modelo"
   ]
  },
  {
   "cell_type": "code",
   "execution_count": 6,
   "metadata": {},
   "outputs": [
    {
     "name": "stderr",
     "output_type": "stream",
     "text": [
      "C:\\Users\\jorda\\anaconda3\\lib\\site-packages\\sklearn\\utils\\validation.py:72: DataConversionWarning: A column-vector y was passed when a 1d array was expected. Please change the shape of y to (n_samples, ), for example using ravel().\n",
      "  return f(**kwargs)\n"
     ]
    },
    {
     "data": {
      "text/plain": [
       "GaussianNB()"
      ]
     },
     "execution_count": 6,
     "metadata": {},
     "output_type": "execute_result"
    }
   ],
   "source": [
    "# Criação e treinamento do modelo (geração da tabela de probabilidades)\n",
    "naive_bayes = GaussianNB()\n",
    "naive_bayes.fit(X_train, Y_train)"
   ]
  },
  {
   "cell_type": "code",
   "execution_count": 7,
   "metadata": {},
   "outputs": [],
   "source": [
    "# Previsões utilizando os registros de teste\n",
    "previsoes = naive_bayes.predict(X_test)"
   ]
  },
  {
   "cell_type": "markdown",
   "metadata": {},
   "source": [
    "#### Matriz de Confusão"
   ]
  },
  {
   "cell_type": "code",
   "execution_count": 8,
   "metadata": {},
   "outputs": [
    {
     "data": {
      "text/plain": [
       "array([[ 41,  34],\n",
       "       [ 40, 185]], dtype=int64)"
      ]
     },
     "execution_count": 8,
     "metadata": {},
     "output_type": "execute_result"
    }
   ],
   "source": [
    "confusao = confusion_matrix(Y_test, previsoes)\n",
    "confusao"
   ]
  },
  {
   "cell_type": "markdown",
   "metadata": {},
   "source": [
    "#### Taxa de Acerto"
   ]
  },
  {
   "cell_type": "code",
   "execution_count": 9,
   "metadata": {},
   "outputs": [
    {
     "data": {
      "text/plain": [
       "0.7533333333333333"
      ]
     },
     "execution_count": 9,
     "metadata": {},
     "output_type": "execute_result"
    }
   ],
   "source": [
    "taxa_acerto = accuracy_score(Y_test, previsoes)\n",
    "taxa_acerto"
   ]
  },
  {
   "cell_type": "code",
   "execution_count": 10,
   "metadata": {},
   "outputs": [],
   "source": [
    "Naive_Bayes = taxa_acerto"
   ]
  },
  {
   "cell_type": "markdown",
   "metadata": {},
   "source": [
    "#### Visualização da Matriz de Confusão"
   ]
  },
  {
   "cell_type": "code",
   "execution_count": 11,
   "metadata": {},
   "outputs": [
    {
     "data": {
      "text/plain": [
       "<sklearn.metrics._plot.confusion_matrix.ConfusionMatrixDisplay at 0x2e1138386a0>"
      ]
     },
     "execution_count": 11,
     "metadata": {},
     "output_type": "execute_result"
    },
    {
     "data": {
      "image/png": "[encoded data removed]",
      "text/plain": [
       "<Figure size 576x396 with 2 Axes>"
      ]
     },
     "metadata": {},
     "output_type": "display_data"
    }
   ],
   "source": [
    "disp = ConfusionMatrixDisplay(confusion_matrix=confusion_matrix(Y_test, previsoes))\n",
    "disp.plot()"
   ]
  },
  {
   "cell_type": "markdown",
   "metadata": {},
   "source": [
    "## 2. Decision Tree"
   ]
  },
  {
   "cell_type": "markdown",
   "metadata": {},
   "source": [
    "#### Treinamento do Modelo"
   ]
  },
  {
   "cell_type": "code",
   "execution_count": 12,
   "metadata": {},
   "outputs": [
    {
     "data": {
      "text/plain": [
       "DecisionTreeClassifier()"
      ]
     },
     "execution_count": 12,
     "metadata": {},
     "output_type": "execute_result"
    }
   ],
   "source": [
    "# Criação e treinamento do modelo\n",
    "arvore = DecisionTreeClassifier()\n",
    "arvore.fit(X_train, Y_train)"
   ]
  },
  {
   "cell_type": "markdown",
   "metadata": {},
   "source": [
    "#### Visualizando Árvore de Decisão"
   ]
  },
  {
   "cell_type": "code",
   "execution_count": 13,
   "metadata": {},
   "outputs": [],
   "source": [
    "# Exportação da árvore de decisão para o formato .dot, para posterior visualização\n",
    "export_graphviz(arvore, out_file = 'dados/tree.dot')\n",
    "\n",
    "# Para visualizar, colar código do arquivo .dot http://www.webgraphviz.com/"
   ]
  },
  {
   "cell_type": "markdown",
   "metadata": {},
   "source": [
    "#### Matriz de Confusão"
   ]
  },
  {
   "cell_type": "code",
   "execution_count": 14,
   "metadata": {},
   "outputs": [
    {
     "data": {
      "text/plain": [
       "array([[ 30,  45],\n",
       "       [ 59, 166]], dtype=int64)"
      ]
     },
     "execution_count": 14,
     "metadata": {},
     "output_type": "execute_result"
    }
   ],
   "source": [
    "# Obtenção das previsões\n",
    "previsoes = arvore.predict(X_test)\n",
    "# matriz de confusão\n",
    "confusao = confusion_matrix(Y_test, previsoes)\n",
    "confusao"
   ]
  },
  {
   "cell_type": "markdown",
   "metadata": {},
   "source": [
    "#### Taxa de Acerto"
   ]
  },
  {
   "cell_type": "code",
   "execution_count": 15,
   "metadata": {},
   "outputs": [
    {
     "data": {
      "text/plain": [
       "0.6533333333333333"
      ]
     },
     "execution_count": 15,
     "metadata": {},
     "output_type": "execute_result"
    }
   ],
   "source": [
    "taxa_acerto = accuracy_score(Y_test, previsoes)\n",
    "taxa_acerto"
   ]
  },
  {
   "cell_type": "code",
   "execution_count": 16,
   "metadata": {},
   "outputs": [],
   "source": [
    "Decision_Tree = taxa_acerto"
   ]
  },
  {
   "cell_type": "markdown",
   "metadata": {},
   "source": [
    "#### Visualização da Matriz de Confusão"
   ]
  },
  {
   "cell_type": "code",
   "execution_count": 17,
   "metadata": {},
   "outputs": [
    {
     "data": {
      "text/plain": [
       "<sklearn.metrics._plot.confusion_matrix.ConfusionMatrixDisplay at 0x2e113838640>"
      ]
     },
     "execution_count": 17,
     "metadata": {},
     "output_type": "execute_result"
    },
    {
     "data": {
      "image/png": "[encoded data removed]",
      "text/plain": [
       "<Figure size 576x396 with 2 Axes>"
      ]
     },
     "metadata": {},
     "output_type": "display_data"
    }
   ],
   "source": [
    "disp = ConfusionMatrixDisplay(confusion_matrix=confusion_matrix(Y_test, previsoes))\n",
    "disp.plot()"
   ]
  },
  {
   "cell_type": "markdown",
   "metadata": {},
   "source": [
    "## 3. Attribute Selection"
   ]
  },
  {
   "cell_type": "markdown",
   "metadata": {},
   "source": [
    "#### Treinamento do Modelo"
   ]
  },
  {
   "cell_type": "code",
   "execution_count": 18,
   "metadata": {},
   "outputs": [
    {
     "name": "stderr",
     "output_type": "stream",
     "text": [
      "C:\\Users\\jorda\\anaconda3\\lib\\site-packages\\sklearn\\utils\\validation.py:72: DataConversionWarning: A column-vector y was passed when a 1d array was expected. Please change the shape of y to (n_samples, ), for example using ravel().\n",
      "  return f(**kwargs)\n"
     ]
    },
    {
     "data": {
      "text/plain": [
       "SVC()"
      ]
     },
     "execution_count": 18,
     "metadata": {},
     "output_type": "execute_result"
    }
   ],
   "source": [
    "# Criação do modelo, treinamento, obtenção das previsões e da taxa de acerto\n",
    "svm = SVC()\n",
    "svm.fit(X_train, Y_train)"
   ]
  },
  {
   "cell_type": "code",
   "execution_count": 19,
   "metadata": {},
   "outputs": [],
   "source": [
    "#previsoes\n",
    "previsoes = svm.predict(X_test)\n",
    "#previsoes"
   ]
  },
  {
   "cell_type": "markdown",
   "metadata": {},
   "source": [
    "#### Matriz de Confusão"
   ]
  },
  {
   "cell_type": "code",
   "execution_count": 20,
   "metadata": {},
   "outputs": [
    {
     "data": {
      "text/plain": [
       "array([[  4,  71],\n",
       "       [  4, 221]], dtype=int64)"
      ]
     },
     "execution_count": 20,
     "metadata": {},
     "output_type": "execute_result"
    }
   ],
   "source": [
    "# matriz de confusão\n",
    "confusao = confusion_matrix(Y_test, previsoes)\n",
    "confusao"
   ]
  },
  {
   "cell_type": "markdown",
   "metadata": {},
   "source": [
    "#### Taxa de Acerto"
   ]
  },
  {
   "cell_type": "code",
   "execution_count": 21,
   "metadata": {},
   "outputs": [
    {
     "data": {
      "text/plain": [
       "0.75"
      ]
     },
     "execution_count": 21,
     "metadata": {},
     "output_type": "execute_result"
    }
   ],
   "source": [
    "taxa_acerto = accuracy_score(Y_test, previsoes)\n",
    "taxa_acerto"
   ]
  },
  {
   "cell_type": "code",
   "execution_count": 22,
   "metadata": {},
   "outputs": [],
   "source": [
    "Attribute_Selection = taxa_acerto"
   ]
  },
  {
   "cell_type": "markdown",
   "metadata": {},
   "source": [
    "#### Visualização da Matriz de Confusão"
   ]
  },
  {
   "cell_type": "code",
   "execution_count": 23,
   "metadata": {},
   "outputs": [
    {
     "data": {
      "text/plain": [
       "<sklearn.metrics._plot.confusion_matrix.ConfusionMatrixDisplay at 0x2e11fd88e50>"
      ]
     },
     "execution_count": 23,
     "metadata": {},
     "output_type": "execute_result"
    },
    {
     "data": {
      "image/png": "[encoded data removed]",
      "text/plain": [
       "<Figure size 576x396 with 2 Axes>"
      ]
     },
     "metadata": {},
     "output_type": "display_data"
    }
   ],
   "source": [
    "disp = ConfusionMatrixDisplay(confusion_matrix=confusion_matrix(Y_test, previsoes))\n",
    "disp.plot()"
   ]
  },
  {
   "cell_type": "markdown",
   "metadata": {},
   "source": [
    "#### Seleção de Atributos - Extrair Características mais importantes para o modelo"
   ]
  },
  {
   "cell_type": "code",
   "execution_count": 24,
   "metadata": {},
   "outputs": [
    {
     "name": "stderr",
     "output_type": "stream",
     "text": [
      "<ipython-input-24-446caf5c3bc0>:3: DataConversionWarning: A column-vector y was passed when a 1d array was expected. Please change the shape of y to (n_samples,), for example using ravel().\n",
      "  forest.fit(X_train, Y_train)\n"
     ]
    },
    {
     "data": {
      "text/plain": [
       "array([0.10367857, 0.07534789, 0.07050399, 0.10015731, 0.06221333,\n",
       "       0.06626889, 0.05600975, 0.04546409, 0.02934494, 0.06249648,\n",
       "       0.09676731, 0.03542555, 0.03825147, 0.03704371, 0.05156061,\n",
       "       0.02629327, 0.03450465, 0.00866817])"
      ]
     },
     "execution_count": 24,
     "metadata": {},
     "output_type": "execute_result"
    }
   ],
   "source": [
    "# Utilização do algoritmo ExtraTreesClassifier para extrair as características mais importantes\n",
    "forest = ExtraTreesClassifier()\n",
    "forest.fit(X_train, Y_train)\n",
    "atributos = forest.feature_importances_\n",
    "atributos"
   ]
  },
  {
   "cell_type": "markdown",
   "metadata": {},
   "source": [
    "#### Nova base apenas com atributos mais importantes"
   ]
  },
  {
   "cell_type": "code",
   "execution_count": 25,
   "metadata": {},
   "outputs": [],
   "source": [
    "# Criação de nova base de dados utilizando somente os atributos mais importantes\n",
    "X_train2 = X_train[:,[0,1,2,3,4,11]]\n",
    "X_test2 = X_test[:,[0,1,2,3,4,11]]"
   ]
  },
  {
   "cell_type": "markdown",
   "metadata": {},
   "source": [
    "#### Novo Modelo com Atributos mais importantes"
   ]
  },
  {
   "cell_type": "code",
   "execution_count": 26,
   "metadata": {},
   "outputs": [
    {
     "name": "stderr",
     "output_type": "stream",
     "text": [
      "C:\\Users\\jorda\\anaconda3\\lib\\site-packages\\sklearn\\utils\\validation.py:72: DataConversionWarning: A column-vector y was passed when a 1d array was expected. Please change the shape of y to (n_samples, ), for example using ravel().\n",
      "  return f(**kwargs)\n"
     ]
    }
   ],
   "source": [
    "# Criar de outro modelo com a base de dados reduzida, treinamento e obtençaão das previsões e taxa de acerto\n",
    "svm2 = SVC()\n",
    "svm2.fit(X_train2, Y_train)\n",
    "previsoes2 = svm2.predict(X_test2)"
   ]
  },
  {
   "cell_type": "markdown",
   "metadata": {},
   "source": [
    "#### Taxa de Acerto Novo Modelo"
   ]
  },
  {
   "cell_type": "code",
   "execution_count": 27,
   "metadata": {},
   "outputs": [
    {
     "data": {
      "text/plain": [
       "0.7466666666666667"
      ]
     },
     "execution_count": 27,
     "metadata": {},
     "output_type": "execute_result"
    }
   ],
   "source": [
    "taxa_acerto = accuracy_score(Y_test, previsoes2)\n",
    "taxa_acerto\n",
    "# Mesmo resultado que modelo com todos atributos. Portanto, diferença não significativa."
   ]
  },
  {
   "cell_type": "markdown",
   "metadata": {},
   "source": [
    "## 4. Random Forest"
   ]
  },
  {
   "cell_type": "markdown",
   "metadata": {},
   "source": [
    "#### Treinamento do Modelo"
   ]
  },
  {
   "cell_type": "code",
   "execution_count": 28,
   "metadata": {},
   "outputs": [
    {
     "name": "stderr",
     "output_type": "stream",
     "text": [
      "<ipython-input-28-e060bad758a1>:3: DataConversionWarning: A column-vector y was passed when a 1d array was expected. Please change the shape of y to (n_samples,), for example using ravel().\n",
      "  floresta.fit(X_train, Y_train)\n"
     ]
    },
    {
     "data": {
      "text/plain": [
       "RandomForestClassifier(n_estimators=200)"
      ]
     },
     "execution_count": 28,
     "metadata": {},
     "output_type": "execute_result"
    }
   ],
   "source": [
    "# Criação do modelo, treinamento, obtenção das previsões e da taxa de acerto\n",
    "floresta = RandomForestClassifier(n_estimators = 200)  # é o número de árvores criadas\n",
    "floresta.fit(X_train, Y_train)"
   ]
  },
  {
   "cell_type": "code",
   "execution_count": 29,
   "metadata": {},
   "outputs": [
    {
     "data": {
      "text/plain": [
       "array([[ 28,  47],\n",
       "       [ 17, 208]], dtype=int64)"
      ]
     },
     "execution_count": 29,
     "metadata": {},
     "output_type": "execute_result"
    }
   ],
   "source": [
    "previsoes = floresta.predict(X_test)\n",
    "confusao = confusion_matrix(Y_test, previsoes)\n",
    "confusao"
   ]
  },
  {
   "cell_type": "code",
   "execution_count": 30,
   "metadata": {},
   "outputs": [],
   "source": [
    "taxa_acerto = accuracy_score(Y_test, previsoes)\n",
    "taxa_acerto\n",
    "Random_Forest = taxa_acerto"
   ]
  },
  {
   "cell_type": "markdown",
   "metadata": {},
   "source": [
    "#### Visualização da Matriz de Confusão"
   ]
  },
  {
   "cell_type": "code",
   "execution_count": 31,
   "metadata": {},
   "outputs": [
    {
     "data": {
      "text/plain": [
       "<sklearn.metrics._plot.confusion_matrix.ConfusionMatrixDisplay at 0x2e11e1a21f0>"
      ]
     },
     "execution_count": 31,
     "metadata": {},
     "output_type": "execute_result"
    },
    {
     "data": {
      "image/png": "[encoded data removed]",
      "text/plain": [
       "<Figure size 576x396 with 2 Axes>"
      ]
     },
     "metadata": {},
     "output_type": "display_data"
    }
   ],
   "source": [
    "disp = ConfusionMatrixDisplay(confusion_matrix=confusion_matrix(Y_test, previsoes))\n",
    "disp.plot()"
   ]
  },
  {
   "cell_type": "markdown",
   "metadata": {},
   "source": [
    "## 5. Neural Network"
   ]
  },
  {
   "cell_type": "markdown",
   "metadata": {},
   "source": [
    "#### Transformação das Variáveis em dummies para adequação à rede neural"
   ]
  },
  {
   "cell_type": "code",
   "execution_count": 32,
   "metadata": {},
   "outputs": [
    {
     "data": {
      "text/plain": [
       "Index(['HistoricoCredito', 'Proposito', 'Valor', 'Investimentos', 'Emprego',\n",
       "       'TempoParcelamento', 'EstadoCivil', 'FiadorTerceiros',\n",
       "       'ResidenciaDesde', 'Idade', 'OutrosFinanciamentos', 'Habitacao',\n",
       "       'EmprestimoExistente', 'Profissao', 'Dependentes', 'SocioEmpresa',\n",
       "       'Estrangeiro'],\n",
       "      dtype='object')"
      ]
     },
     "execution_count": 32,
     "metadata": {},
     "output_type": "execute_result"
    }
   ],
   "source": [
    "# Nome das colunas\n",
    "#list(dataset.columns)\n",
    "column_names = data.columns[1:18] # EXCLUI COLUNA IDCREDITO e STATUS\n",
    "column_names"
   ]
  },
  {
   "cell_type": "code",
   "execution_count": 33,
   "metadata": {},
   "outputs": [
    {
     "data": {
      "text/html": [
       "<div>\n",
       "<style scoped>\n",
       "    .dataframe tbody tr th:only-of-type {\n",
       "        vertical-align: middle;\n",
       "    }\n",
       "\n",
       "    .dataframe tbody tr th {\n",
       "        vertical-align: top;\n",
       "    }\n",
       "\n",
       "    .dataframe thead th {\n",
       "        text-align: right;\n",
       "    }\n",
       "</style>\n",
       "<table border=\"1\" class=\"dataframe\">\n",
       "  <thead>\n",
       "    <tr style=\"text-align: right;\">\n",
       "      <th></th>\n",
       "      <th>Duracao</th>\n",
       "      <th>Status</th>\n",
       "      <th>HistoricoCredito_1</th>\n",
       "      <th>HistoricoCredito_2</th>\n",
       "      <th>HistoricoCredito_3</th>\n",
       "      <th>HistoricoCredito_4</th>\n",
       "      <th>HistoricoCredito_5</th>\n",
       "      <th>Proposito_2</th>\n",
       "      <th>Proposito_3</th>\n",
       "      <th>Proposito_4</th>\n",
       "      <th>...</th>\n",
       "      <th>EmprestimoExistente_2</th>\n",
       "      <th>EmprestimoExistente_3</th>\n",
       "      <th>EmprestimoExistente_4</th>\n",
       "      <th>Profissao_2</th>\n",
       "      <th>Profissao_3</th>\n",
       "      <th>Profissao_4</th>\n",
       "      <th>Profissao_999</th>\n",
       "      <th>Dependentes_2</th>\n",
       "      <th>SocioEmpresa_1</th>\n",
       "      <th>Estrangeiro_1</th>\n",
       "    </tr>\n",
       "  </thead>\n",
       "  <tbody>\n",
       "    <tr>\n",
       "      <th>0</th>\n",
       "      <td>48</td>\n",
       "      <td>0</td>\n",
       "      <td>0</td>\n",
       "      <td>1</td>\n",
       "      <td>0</td>\n",
       "      <td>0</td>\n",
       "      <td>0</td>\n",
       "      <td>0</td>\n",
       "      <td>0</td>\n",
       "      <td>0</td>\n",
       "      <td>...</td>\n",
       "      <td>0</td>\n",
       "      <td>0</td>\n",
       "      <td>0</td>\n",
       "      <td>0</td>\n",
       "      <td>0</td>\n",
       "      <td>1</td>\n",
       "      <td>0</td>\n",
       "      <td>0</td>\n",
       "      <td>0</td>\n",
       "      <td>0</td>\n",
       "    </tr>\n",
       "    <tr>\n",
       "      <th>1</th>\n",
       "      <td>12</td>\n",
       "      <td>1</td>\n",
       "      <td>1</td>\n",
       "      <td>0</td>\n",
       "      <td>0</td>\n",
       "      <td>0</td>\n",
       "      <td>0</td>\n",
       "      <td>1</td>\n",
       "      <td>0</td>\n",
       "      <td>0</td>\n",
       "      <td>...</td>\n",
       "      <td>0</td>\n",
       "      <td>0</td>\n",
       "      <td>0</td>\n",
       "      <td>0</td>\n",
       "      <td>1</td>\n",
       "      <td>0</td>\n",
       "      <td>0</td>\n",
       "      <td>1</td>\n",
       "      <td>0</td>\n",
       "      <td>0</td>\n",
       "    </tr>\n",
       "    <tr>\n",
       "      <th>2</th>\n",
       "      <td>42</td>\n",
       "      <td>1</td>\n",
       "      <td>0</td>\n",
       "      <td>1</td>\n",
       "      <td>0</td>\n",
       "      <td>0</td>\n",
       "      <td>0</td>\n",
       "      <td>0</td>\n",
       "      <td>1</td>\n",
       "      <td>0</td>\n",
       "      <td>...</td>\n",
       "      <td>0</td>\n",
       "      <td>0</td>\n",
       "      <td>0</td>\n",
       "      <td>0</td>\n",
       "      <td>0</td>\n",
       "      <td>1</td>\n",
       "      <td>0</td>\n",
       "      <td>1</td>\n",
       "      <td>0</td>\n",
       "      <td>0</td>\n",
       "    </tr>\n",
       "    <tr>\n",
       "      <th>3</th>\n",
       "      <td>24</td>\n",
       "      <td>0</td>\n",
       "      <td>0</td>\n",
       "      <td>0</td>\n",
       "      <td>1</td>\n",
       "      <td>0</td>\n",
       "      <td>0</td>\n",
       "      <td>0</td>\n",
       "      <td>0</td>\n",
       "      <td>1</td>\n",
       "      <td>...</td>\n",
       "      <td>1</td>\n",
       "      <td>0</td>\n",
       "      <td>0</td>\n",
       "      <td>0</td>\n",
       "      <td>0</td>\n",
       "      <td>1</td>\n",
       "      <td>0</td>\n",
       "      <td>1</td>\n",
       "      <td>0</td>\n",
       "      <td>0</td>\n",
       "    </tr>\n",
       "    <tr>\n",
       "      <th>4</th>\n",
       "      <td>36</td>\n",
       "      <td>1</td>\n",
       "      <td>0</td>\n",
       "      <td>1</td>\n",
       "      <td>0</td>\n",
       "      <td>0</td>\n",
       "      <td>0</td>\n",
       "      <td>1</td>\n",
       "      <td>0</td>\n",
       "      <td>0</td>\n",
       "      <td>...</td>\n",
       "      <td>0</td>\n",
       "      <td>0</td>\n",
       "      <td>0</td>\n",
       "      <td>0</td>\n",
       "      <td>1</td>\n",
       "      <td>0</td>\n",
       "      <td>0</td>\n",
       "      <td>1</td>\n",
       "      <td>1</td>\n",
       "      <td>0</td>\n",
       "    </tr>\n",
       "  </tbody>\n",
       "</table>\n",
       "<p>5 rows × 1022 columns</p>\n",
       "</div>"
      ],
      "text/plain": [
       "   Duracao  Status  HistoricoCredito_1  HistoricoCredito_2  \\\n",
       "0       48       0                   0                   1   \n",
       "1       12       1                   1                   0   \n",
       "2       42       1                   0                   1   \n",
       "3       24       0                   0                   0   \n",
       "4       36       1                   0                   1   \n",
       "\n",
       "   HistoricoCredito_3  HistoricoCredito_4  HistoricoCredito_5  Proposito_2  \\\n",
       "0                   0                   0                   0            0   \n",
       "1                   0                   0                   0            1   \n",
       "2                   0                   0                   0            0   \n",
       "3                   1                   0                   0            0   \n",
       "4                   0                   0                   0            1   \n",
       "\n",
       "   Proposito_3  Proposito_4  ...  EmprestimoExistente_2  \\\n",
       "0            0            0  ...                      0   \n",
       "1            0            0  ...                      0   \n",
       "2            1            0  ...                      0   \n",
       "3            0            1  ...                      1   \n",
       "4            0            0  ...                      0   \n",
       "\n",
       "   EmprestimoExistente_3  EmprestimoExistente_4  Profissao_2  Profissao_3  \\\n",
       "0                      0                      0            0            0   \n",
       "1                      0                      0            0            1   \n",
       "2                      0                      0            0            0   \n",
       "3                      0                      0            0            0   \n",
       "4                      0                      0            0            1   \n",
       "\n",
       "   Profissao_4  Profissao_999  Dependentes_2  SocioEmpresa_1  Estrangeiro_1  \n",
       "0            1              0              0               0              0  \n",
       "1            0              0              1               0              0  \n",
       "2            1              0              1               0              0  \n",
       "3            1              0              1               0              0  \n",
       "4            0              0              1               1              0  \n",
       "\n",
       "[5 rows x 1022 columns]"
      ]
     },
     "execution_count": 33,
     "metadata": {},
     "output_type": "execute_result"
    }
   ],
   "source": [
    "data = pd.get_dummies(data, columns=column_names, drop_first=True)\n",
    "data.head()"
   ]
  },
  {
   "cell_type": "code",
   "execution_count": 34,
   "metadata": {},
   "outputs": [
    {
     "data": {
      "text/plain": [
       "1021"
      ]
     },
     "execution_count": 34,
     "metadata": {},
     "output_type": "execute_result"
    }
   ],
   "source": [
    "# divide variáveis independentes (previsores - X) e variável dependente (classe - Y)\n",
    "X = data.loc[:,~data.columns.str.contains('Status')].values\n",
    "Y = data.loc[:,data.columns.str.contains('Status')].values\n",
    "#X.shape\n",
    "len(X[0]) # lenght das colunas de X"
   ]
  },
  {
   "cell_type": "code",
   "execution_count": 35,
   "metadata": {},
   "outputs": [
    {
     "data": {
      "text/plain": [
       "(1000, 1)"
      ]
     },
     "execution_count": 35,
     "metadata": {},
     "output_type": "execute_result"
    }
   ],
   "source": [
    "Y.shape"
   ]
  },
  {
   "cell_type": "markdown",
   "metadata": {},
   "source": [
    "**Transforma variável dependente (class) em dummies**"
   ]
  },
  {
   "cell_type": "code",
   "execution_count": 36,
   "metadata": {},
   "outputs": [
    {
     "data": {
      "text/plain": [
       "(1000, 2)"
      ]
     },
     "execution_count": 36,
     "metadata": {},
     "output_type": "execute_result"
    }
   ],
   "source": [
    "# one hot encoder\n",
    "# deve adicionar 19 colunas, pois a classe tem 19 possibilidades de entrada\n",
    "onehotencoder = make_column_transformer((OneHotEncoder(categories='auto', sparse=False), [0]), remainder=\"passthrough\")\n",
    "Y = onehotencoder.fit_transform(Y)\n",
    "Y.shape"
   ]
  },
  {
   "cell_type": "markdown",
   "metadata": {},
   "source": [
    "#### Divide Base entre Treino e Teste"
   ]
  },
  {
   "cell_type": "code",
   "execution_count": 37,
   "metadata": {},
   "outputs": [
    {
     "name": "stdout",
     "output_type": "stream",
     "text": [
      "700 300 700 300\n"
     ]
    }
   ],
   "source": [
    "X_train, X_test, Y_train, Y_test = train_test_split(X, Y, test_size = 0.3, random_state = 0)\n",
    "print(len(X_train),len(X_test),len(Y_train),len(Y_test)) # verificar a divisão"
   ]
  },
  {
   "cell_type": "markdown",
   "metadata": {},
   "source": [
    "#### Criação da Estrutural de Rede"
   ]
  },
  {
   "cell_type": "code",
   "execution_count": 38,
   "metadata": {},
   "outputs": [
    {
     "name": "stdout",
     "output_type": "stream",
     "text": [
      "Model: \"sequential\"\n",
      "_________________________________________________________________\n",
      "Layer (type)                 Output Shape              Param #   \n",
      "=================================================================\n",
      "dense (Dense)                (None, 10)                10220     \n",
      "_________________________________________________________________\n",
      "dropout (Dropout)            (None, 10)                0         \n",
      "_________________________________________________________________\n",
      "dense_1 (Dense)              (None, 10)                110       \n",
      "_________________________________________________________________\n",
      "dropout_1 (Dropout)          (None, 10)                0         \n",
      "_________________________________________________________________\n",
      "dense_2 (Dense)              (None, 10)                110       \n",
      "_________________________________________________________________\n",
      "dropout_2 (Dropout)          (None, 10)                0         \n",
      "_________________________________________________________________\n",
      "dense_3 (Dense)              (None, 2)                 22        \n",
      "=================================================================\n",
      "Total params: 10,462\n",
      "Trainable params: 10,462\n",
      "Non-trainable params: 0\n",
      "_________________________________________________________________\n"
     ]
    }
   ],
   "source": [
    "modelo = Sequential()\n",
    "modelo.add(Dense(units = 10, activation = 'sigmoid', input_dim = len(X[0])))\n",
    "modelo.add(Dropout(0.1)) # transforma em 0 uma porcentagem dos links entre camadas, a fim de evitar overfitting.\n",
    "modelo.add(Dense(units = 10, activation = 'sigmoid'))\n",
    "modelo.add(Dropout(0.1))\n",
    "modelo.add(Dense(units = 10, activation = 'sigmoid'))\n",
    "modelo.add(Dropout(0.1))\n",
    "\n",
    "modelo.add(Dense(units = 2, activation = 'softmax'))\n",
    "\n",
    "modelo.summary()"
   ]
  },
  {
   "cell_type": "markdown",
   "metadata": {},
   "source": [
    "#### Compilando o Modelo"
   ]
  },
  {
   "cell_type": "code",
   "execution_count": 39,
   "metadata": {},
   "outputs": [],
   "source": [
    "# Compilando o modelo\n",
    "# Configuração dos parâmetros da rede neural (adam = algoritmo para otimizar os pesos das variáveis independentes; categorical_crossentropy = forma de cálculo do erro)\n",
    "modelo.compile(optimizer = 'adam', loss = 'categorical_crossentropy',\n",
    "               metrics = ['accuracy'])  # corresponde à taxa de acerto"
   ]
  },
  {
   "cell_type": "markdown",
   "metadata": {},
   "source": [
    "#### Treinando o Modelo"
   ]
  },
  {
   "cell_type": "code",
   "execution_count": 40,
   "metadata": {},
   "outputs": [
    {
     "name": "stdout",
     "output_type": "stream",
     "text": [
      "Epoch 1/1000\n",
      "22/22 [==============================] - 2s 59ms/step - loss: 0.8342 - accuracy: 0.3709 - val_loss: 0.7073 - val_accuracy: 0.2500\n",
      "Epoch 2/1000\n",
      "22/22 [==============================] - 0s 3ms/step - loss: 0.6926 - accuracy: 0.5672 - val_loss: 0.6177 - val_accuracy: 0.7500\n",
      "Epoch 3/1000\n",
      "22/22 [==============================] - 0s 3ms/step - loss: 0.6693 - accuracy: 0.6136 - val_loss: 0.5895 - val_accuracy: 0.7500\n",
      "Epoch 4/1000\n",
      "22/22 [==============================] - 0s 3ms/step - loss: 0.6533 - accuracy: 0.6379 - val_loss: 0.5801 - val_accuracy: 0.7500\n",
      "Epoch 5/1000\n",
      "22/22 [==============================] - 0s 3ms/step - loss: 0.6310 - accuracy: 0.6701 - val_loss: 0.5742 - val_accuracy: 0.7500\n",
      "Epoch 6/1000\n",
      "22/22 [==============================] - 0s 3ms/step - loss: 0.6487 - accuracy: 0.6635 - val_loss: 0.5722 - val_accuracy: 0.7500\n",
      "Epoch 7/1000\n",
      "22/22 [==============================] - 0s 3ms/step - loss: 0.6722 - accuracy: 0.6218 - val_loss: 0.5717 - val_accuracy: 0.7500\n",
      "Epoch 8/1000\n",
      "22/22 [==============================] - 0s 3ms/step - loss: 0.5965 - accuracy: 0.7121 - val_loss: 0.5690 - val_accuracy: 0.7500\n",
      "Epoch 9/1000\n",
      "22/22 [==============================] - 0s 3ms/step - loss: 0.6703 - accuracy: 0.6450 - val_loss: 0.5721 - val_accuracy: 0.7500\n",
      "Epoch 10/1000\n",
      "22/22 [==============================] - 0s 3ms/step - loss: 0.6449 - accuracy: 0.6472 - val_loss: 0.5713 - val_accuracy: 0.7500\n",
      "Epoch 11/1000\n",
      "22/22 [==============================] - 0s 3ms/step - loss: 0.6351 - accuracy: 0.6761 - val_loss: 0.5663 - val_accuracy: 0.7500\n",
      "Epoch 12/1000\n",
      "22/22 [==============================] - 0s 3ms/step - loss: 0.6228 - accuracy: 0.6768 - val_loss: 0.5666 - val_accuracy: 0.7500\n",
      "Epoch 13/1000\n",
      "22/22 [==============================] - 0s 5ms/step - loss: 0.6343 - accuracy: 0.6660 - val_loss: 0.5678 - val_accuracy: 0.7500\n",
      "Epoch 14/1000\n",
      "22/22 [==============================] - 0s 4ms/step - loss: 0.6241 - accuracy: 0.6794 - val_loss: 0.5650 - val_accuracy: 0.7500\n",
      "Epoch 15/1000\n",
      "22/22 [==============================] - 0s 4ms/step - loss: 0.6038 - accuracy: 0.6912 - val_loss: 0.5637 - val_accuracy: 0.7500\n",
      "Epoch 16/1000\n",
      "22/22 [==============================] - 0s 3ms/step - loss: 0.6149 - accuracy: 0.7022 - val_loss: 0.5647 - val_accuracy: 0.7500\n",
      "Epoch 17/1000\n",
      "22/22 [==============================] - 0s 4ms/step - loss: 0.6325 - accuracy: 0.6644 - val_loss: 0.5628 - val_accuracy: 0.7500\n",
      "Epoch 18/1000\n",
      "22/22 [==============================] - 0s 5ms/step - loss: 0.6099 - accuracy: 0.6949 - val_loss: 0.5612 - val_accuracy: 0.7500\n",
      "Epoch 19/1000\n",
      "22/22 [==============================] - 0s 5ms/step - loss: 0.6258 - accuracy: 0.6576 - val_loss: 0.5626 - val_accuracy: 0.7500\n",
      "Epoch 20/1000\n",
      "22/22 [==============================] - 0s 4ms/step - loss: 0.6211 - accuracy: 0.6736 - val_loss: 0.5576 - val_accuracy: 0.7500\n",
      "Epoch 21/1000\n",
      "22/22 [==============================] - 0s 3ms/step - loss: 0.6370 - accuracy: 0.6499 - val_loss: 0.5593 - val_accuracy: 0.7500\n",
      "Epoch 22/1000\n",
      "22/22 [==============================] - 0s 3ms/step - loss: 0.6073 - accuracy: 0.6774 - val_loss: 0.5560 - val_accuracy: 0.7500\n",
      "Epoch 23/1000\n",
      "22/22 [==============================] - 0s 3ms/step - loss: 0.6075 - accuracy: 0.6828 - val_loss: 0.5540 - val_accuracy: 0.7500\n",
      "Epoch 24/1000\n",
      "22/22 [==============================] - 0s 3ms/step - loss: 0.6123 - accuracy: 0.6825 - val_loss: 0.5517 - val_accuracy: 0.7500\n",
      "Epoch 25/1000\n",
      "22/22 [==============================] - 0s 3ms/step - loss: 0.6239 - accuracy: 0.6482 - val_loss: 0.5495 - val_accuracy: 0.7500\n",
      "Epoch 26/1000\n",
      "22/22 [==============================] - 0s 3ms/step - loss: 0.5829 - accuracy: 0.6962 - val_loss: 0.5452 - val_accuracy: 0.7500\n",
      "Epoch 27/1000\n",
      "22/22 [==============================] - 0s 3ms/step - loss: 0.5963 - accuracy: 0.6915 - val_loss: 0.5454 - val_accuracy: 0.7500\n",
      "Epoch 28/1000\n",
      "22/22 [==============================] - 0s 3ms/step - loss: 0.6098 - accuracy: 0.6541 - val_loss: 0.5408 - val_accuracy: 0.7500\n",
      "Epoch 29/1000\n",
      "22/22 [==============================] - 0s 3ms/step - loss: 0.5944 - accuracy: 0.6863 - val_loss: 0.5354 - val_accuracy: 0.7500\n",
      "Epoch 30/1000\n",
      "22/22 [==============================] - 0s 3ms/step - loss: 0.6145 - accuracy: 0.6710 - val_loss: 0.5361 - val_accuracy: 0.7500\n",
      "Epoch 31/1000\n",
      "22/22 [==============================] - 0s 3ms/step - loss: 0.5897 - accuracy: 0.6841 - val_loss: 0.5294 - val_accuracy: 0.7500\n",
      "Epoch 32/1000\n",
      "22/22 [==============================] - 0s 3ms/step - loss: 0.5841 - accuracy: 0.6814 - val_loss: 0.5286 - val_accuracy: 0.7500\n",
      "Epoch 33/1000\n",
      "22/22 [==============================] - 0s 3ms/step - loss: 0.5609 - accuracy: 0.6879 - val_loss: 0.5237 - val_accuracy: 0.7467\n",
      "Epoch 34/1000\n",
      "22/22 [==============================] - 0s 3ms/step - loss: 0.5504 - accuracy: 0.7159 - val_loss: 0.5212 - val_accuracy: 0.7467\n",
      "Epoch 35/1000\n",
      "22/22 [==============================] - 0s 3ms/step - loss: 0.5411 - accuracy: 0.7145 - val_loss: 0.5162 - val_accuracy: 0.7467\n",
      "Epoch 36/1000\n",
      "22/22 [==============================] - 0s 3ms/step - loss: 0.5279 - accuracy: 0.7292 - val_loss: 0.5137 - val_accuracy: 0.7633\n",
      "Epoch 37/1000\n",
      "22/22 [==============================] - 0s 4ms/step - loss: 0.5478 - accuracy: 0.7340 - val_loss: 0.5102 - val_accuracy: 0.7733\n",
      "Epoch 38/1000\n",
      "22/22 [==============================] - 0s 4ms/step - loss: 0.5343 - accuracy: 0.7294 - val_loss: 0.5113 - val_accuracy: 0.7833\n",
      "Epoch 39/1000\n",
      "22/22 [==============================] - 0s 3ms/step - loss: 0.5444 - accuracy: 0.7097 - val_loss: 0.5019 - val_accuracy: 0.7833\n",
      "Epoch 40/1000\n",
      "22/22 [==============================] - 0s 4ms/step - loss: 0.5148 - accuracy: 0.7496 - val_loss: 0.4984 - val_accuracy: 0.7867\n",
      "Epoch 41/1000\n",
      "22/22 [==============================] - 0s 3ms/step - loss: 0.4957 - accuracy: 0.7543 - val_loss: 0.5077 - val_accuracy: 0.7900\n",
      "Epoch 42/1000\n",
      "22/22 [==============================] - 0s 4ms/step - loss: 0.4789 - accuracy: 0.7887 - val_loss: 0.4910 - val_accuracy: 0.7867\n",
      "Epoch 43/1000\n",
      "22/22 [==============================] - 0s 4ms/step - loss: 0.4832 - accuracy: 0.7679 - val_loss: 0.4954 - val_accuracy: 0.7900\n",
      "Epoch 44/1000\n",
      "22/22 [==============================] - 0s 4ms/step - loss: 0.4499 - accuracy: 0.8137 - val_loss: 0.4885 - val_accuracy: 0.7933\n",
      "Epoch 45/1000\n",
      "22/22 [==============================] - 0s 5ms/step - loss: 0.4738 - accuracy: 0.7756 - val_loss: 0.4861 - val_accuracy: 0.7900\n",
      "Epoch 46/1000\n",
      "22/22 [==============================] - 0s 4ms/step - loss: 0.4501 - accuracy: 0.7838 - val_loss: 0.4849 - val_accuracy: 0.7933\n",
      "Epoch 47/1000\n",
      "22/22 [==============================] - 0s 5ms/step - loss: 0.4299 - accuracy: 0.8095 - val_loss: 0.4876 - val_accuracy: 0.7933\n",
      "Epoch 48/1000\n",
      "22/22 [==============================] - 0s 6ms/step - loss: 0.4333 - accuracy: 0.8023 - val_loss: 0.4769 - val_accuracy: 0.8000\n",
      "Epoch 49/1000\n",
      "22/22 [==============================] - 0s 7ms/step - loss: 0.4134 - accuracy: 0.8191 - val_loss: 0.5049 - val_accuracy: 0.7800\n",
      "Epoch 50/1000\n",
      "22/22 [==============================] - 0s 5ms/step - loss: 0.4170 - accuracy: 0.7976 - val_loss: 0.4761 - val_accuracy: 0.7967\n",
      "Epoch 51/1000\n",
      "22/22 [==============================] - 0s 7ms/step - loss: 0.3962 - accuracy: 0.8328 - val_loss: 0.4884 - val_accuracy: 0.7733\n",
      "Epoch 52/1000\n",
      "22/22 [==============================] - 0s 7ms/step - loss: 0.3878 - accuracy: 0.8363 - val_loss: 0.4913 - val_accuracy: 0.7733\n",
      "Epoch 53/1000\n",
      "22/22 [==============================] - 0s 6ms/step - loss: 0.3885 - accuracy: 0.8510 - val_loss: 0.4808 - val_accuracy: 0.7933\n",
      "Epoch 54/1000\n",
      "22/22 [==============================] - 0s 6ms/step - loss: 0.3807 - accuracy: 0.8367 - val_loss: 0.4869 - val_accuracy: 0.7800\n",
      "Epoch 55/1000\n",
      "22/22 [==============================] - 0s 8ms/step - loss: 0.3438 - accuracy: 0.8565 - val_loss: 0.4879 - val_accuracy: 0.7833\n",
      "Epoch 56/1000\n",
      "22/22 [==============================] - 0s 7ms/step - loss: 0.3367 - accuracy: 0.8675 - val_loss: 0.5226 - val_accuracy: 0.7533\n",
      "Epoch 57/1000\n",
      "22/22 [==============================] - 0s 5ms/step - loss: 0.3389 - accuracy: 0.8694 - val_loss: 0.5112 - val_accuracy: 0.7767\n",
      "Epoch 58/1000\n",
      "22/22 [==============================] - 0s 4ms/step - loss: 0.3148 - accuracy: 0.8862 - val_loss: 0.5016 - val_accuracy: 0.7700\n",
      "Epoch 59/1000\n",
      "22/22 [==============================] - 0s 5ms/step - loss: 0.3569 - accuracy: 0.8434 - val_loss: 0.5008 - val_accuracy: 0.7767\n",
      "Epoch 60/1000\n",
      "22/22 [==============================] - 0s 4ms/step - loss: 0.3046 - accuracy: 0.8857 - val_loss: 0.5183 - val_accuracy: 0.7733\n"
     ]
    }
   ],
   "source": [
    "earlystopping = callbacks.EarlyStopping(monitor =\"val_loss\",  \n",
    "                                        mode =\"auto\", patience = 10,  \n",
    "                                        restore_best_weights = True)\n",
    "\n",
    "historico = modelo.fit(X_train, Y_train, epochs = 1000,\n",
    "          validation_data=(X_test, Y_test),\n",
    "          callbacks =[earlystopping])"
   ]
  },
  {
   "cell_type": "code",
   "execution_count": 41,
   "metadata": {},
   "outputs": [],
   "source": [
    "previsoes = modelo.predict(X_test)\n",
    "previsoes = (previsoes > 0.5)"
   ]
  },
  {
   "cell_type": "code",
   "execution_count": 42,
   "metadata": {},
   "outputs": [],
   "source": [
    "previsoes = [np.argmax(t) for t in previsoes]\n",
    "Y_test = [np.argmax(t) for t in Y_test]"
   ]
  },
  {
   "cell_type": "code",
   "execution_count": 43,
   "metadata": {},
   "outputs": [
    {
     "data": {
      "text/plain": [
       "array([[ 35,  40],\n",
       "       [ 21, 204]], dtype=int64)"
      ]
     },
     "execution_count": 43,
     "metadata": {},
     "output_type": "execute_result"
    }
   ],
   "source": [
    "confusao = confusion_matrix(Y_test, previsoes)\n",
    "confusao"
   ]
  },
  {
   "cell_type": "markdown",
   "metadata": {},
   "source": [
    "#### Taxa de Acerto"
   ]
  },
  {
   "cell_type": "code",
   "execution_count": 44,
   "metadata": {},
   "outputs": [
    {
     "data": {
      "text/plain": [
       "0.7966666666666666"
      ]
     },
     "execution_count": 44,
     "metadata": {},
     "output_type": "execute_result"
    }
   ],
   "source": [
    "#taxa acerto\n",
    "taxa_acerto = accuracy_score(Y_test, previsoes)\n",
    "taxa_acerto"
   ]
  },
  {
   "cell_type": "code",
   "execution_count": 45,
   "metadata": {},
   "outputs": [],
   "source": [
    "Neural_Network = taxa_acerto"
   ]
  },
  {
   "cell_type": "markdown",
   "metadata": {},
   "source": [
    "#### Visualizar Matriz de Confusão"
   ]
  },
  {
   "cell_type": "code",
   "execution_count": 46,
   "metadata": {},
   "outputs": [
    {
     "data": {
      "text/plain": [
       "<sklearn.metrics._plot.confusion_matrix.ConfusionMatrixDisplay at 0x2e129d2f430>"
      ]
     },
     "execution_count": 46,
     "metadata": {},
     "output_type": "execute_result"
    },
    {
     "data": {
      "image/png": "[encoded data removed]",
      "text/plain": [
       "<Figure size 576x396 with 2 Axes>"
      ]
     },
     "metadata": {},
     "output_type": "display_data"
    }
   ],
   "source": [
    "disp = ConfusionMatrixDisplay(confusion_matrix=confusion_matrix(Y_test, previsoes))\n",
    "disp.plot() "
   ]
  },
  {
   "cell_type": "code",
   "execution_count": 76,
   "metadata": {},
   "outputs": [
    {
     "data": {
      "image/png": "[encoded data removed]",
      "text/plain": [
       "<Figure size 576x396 with 1 Axes>"
      ]
     },
     "metadata": {},
     "output_type": "display_data"
    }
   ],
   "source": [
    "fig, ax = plt.subplots()\n",
    "ax.plot(historico.history['val_loss'], label='Erro')\n",
    "ax.plot(historico.history['val_accuracy'], label='Precisão')\n",
    "plt.title('Evolução do Erro e da Precisão da Rede Neural', fontsize='x-large')\n",
    "plt.xlabel('Número de epochs', fontsize='large')\n",
    "\n",
    "legend = ax.legend(loc='lower right', shadow=True, fontsize='x-large')\n",
    "\n",
    "plt.show()"
   ]
  },
  {
   "cell_type": "markdown",
   "metadata": {},
   "source": [
    "## Avaliação dos Modelos"
   ]
  },
  {
   "cell_type": "code",
   "execution_count": 79,
   "metadata": {},
   "outputs": [
    {
     "data": {
      "text/html": [
       "<div>\n",
       "<style scoped>\n",
       "    .dataframe tbody tr th:only-of-type {\n",
       "        vertical-align: middle;\n",
       "    }\n",
       "\n",
       "    .dataframe tbody tr th {\n",
       "        vertical-align: top;\n",
       "    }\n",
       "\n",
       "    .dataframe thead th {\n",
       "        text-align: right;\n",
       "    }\n",
       "</style>\n",
       "<table border=\"1\" class=\"dataframe\">\n",
       "  <thead>\n",
       "    <tr style=\"text-align: right;\">\n",
       "      <th></th>\n",
       "      <th>Naive Bayes</th>\n",
       "      <th>Decision Tree</th>\n",
       "      <th>Attribute Selection</th>\n",
       "      <th>Random Forest</th>\n",
       "      <th>Neural Network</th>\n",
       "    </tr>\n",
       "  </thead>\n",
       "  <tbody>\n",
       "    <tr>\n",
       "      <th>0</th>\n",
       "      <td>0.753333</td>\n",
       "      <td>0.653333</td>\n",
       "      <td>0.75</td>\n",
       "      <td>0.786667</td>\n",
       "      <td>0.796667</td>\n",
       "    </tr>\n",
       "  </tbody>\n",
       "</table>\n",
       "</div>"
      ],
      "text/plain": [
       "   Naive Bayes  Decision Tree  Attribute Selection  Random Forest  \\\n",
       "0     0.753333       0.653333                 0.75       0.786667   \n",
       "\n",
       "   Neural Network  \n",
       "0        0.796667  "
      ]
     },
     "execution_count": 79,
     "metadata": {},
     "output_type": "execute_result"
    }
   ],
   "source": [
    "Evaliation = pd.DataFrame(data={'Naive Bayes':[Naive_Bayes],\n",
    "                          'Decision Tree':[Decision_Tree],\n",
    "                          'Attribute Selection':[Attribute_Selection],\n",
    "                          'Random Forest':[Random_Forest],\n",
    "                          'Neural Network':[Neural_Network]})\n",
    "Evaliation"
   ]
  },
  {
   "cell_type": "code",
   "execution_count": 81,
   "metadata": {},
   "outputs": [
    {
     "data": {
      "text/plain": [
       "'Neural Network'"
      ]
     },
     "execution_count": 81,
     "metadata": {},
     "output_type": "execute_result"
    }
   ],
   "source": [
    "Evaliation.columns[np.argmax(Evaliation)]"
   ]
  }
 ],
 "metadata": {
  "kernelspec": {
   "display_name": "Python 3",
   "language": "python",
   "name": "python3"
  },
  "language_info": {
   "codemirror_mode": {
    "name": "ipython",
    "version": 3
   },
   "file_extension": ".py",
   "mimetype": "text/x-python",
   "name": "python",
   "nbconvert_exporter": "python",
   "pygments_lexer": "ipython3",
   "version": "3.8.5"
  }
 },
 "nbformat": 4,
 "nbformat_minor": 4
}
